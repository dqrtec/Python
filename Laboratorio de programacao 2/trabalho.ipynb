{
 "cells": [
  {
   "cell_type": "code",
   "execution_count": 29,
   "metadata": {},
   "outputs": [],
   "source": [
    "class Cliente:\n",
    "    def __init__(self, nome, telefone):\n",
    "        self.nome = nome\n",
    "        self.telefone = telefone"
   ]
  },
  {
   "cell_type": "code",
   "execution_count": 30,
   "metadata": {},
   "outputs": [],
   "source": [
    "cliente1 = Cliente(\"Daniel\", \"837489\")"
   ]
  },
  {
   "cell_type": "code",
   "execution_count": 31,
   "metadata": {},
   "outputs": [],
   "source": [
    "class Conta:\n",
    "    numero = 1\n",
    "    def __init__(self, dono):\n",
    "        self.n_conta = self.numero\n",
    "        self.numero = self.numero + 1\n",
    "        self.dono = dono\n",
    "        self.saldo = 0\n",
    "    def depositar(self, acrescimo):\n",
    "        self.saldo = acrescimo\n",
    "    def saque(self,valor):\n",
    "        if(valor<=self.saldo):\n",
    "            print(\"texto grande\")\n",
    "        else:\n",
    "            print(\"Saldo insuficiente!\")\n",
    "    def extrato(self):\n",
    "        pass\n",
    "    \n",
    "    \n",
    "class Especial(Conta):\n",
    "    def __init__(self,dono,limite):\n",
    "        super().__init__(dono)\n",
    "        self.limite = limite\n",
    "    def saque(self, valor):\n",
    "        if (self.saldo + self.limite) >= valor:\n",
    "            print(\"\"\"Extrato CC No. {0}\n",
    "        \\t DEPOSITO \\t {1:0.2f}\n",
    "        \\t Saque \\t\\t {2:0.2f}\\n\n",
    "        \\t Saldo \\t\\t {3:0.2f}\n",
    "        \\n\n",
    "        \\t Limite \\t {4:0.2f}\\n\\n\n",
    "        Disponivel \\t\\t {5:0.2f}\n",
    "        \"\"\".format(self.n_conta, self.saldo, valor,(self.saldo-valor) ,self.limite, (self.limite+self.saldo-valor)))\n",
    "            self.saldo = self.saldo-valor\n",
    "            if valor > self.saldo:\n",
    "                self.limite = self.limite + self.saldo - valor\n",
    "        else:\n",
    "            print(\"Saldo insuficiente!\")\n",
    "    def extrato(self):\n",
    "        print(\"\"\"Extrato CC No. {0}\n",
    "        \\t DEPOSITO \\t {1:0.2f}\n",
    "        \\t Saldo \\t\\t {2:0.2f}\n",
    "        \\n\n",
    "        \\t Limite \\t {3:0.2f}\\n\\n\n",
    "        Disponivel \\t\\t {4:0.2f}\n",
    "        \"\"\".format(self.n_conta, self.saldo, self.saldo, self.limite, (self.saldo+self.limite)))"
   ]
  },
  {
   "cell_type": "code",
   "execution_count": 32,
   "metadata": {},
   "outputs": [
    {
     "name": "stdout",
     "output_type": "stream",
     "text": [
      "Extrato CC No. 1\n",
      "        \t DEPOSITO \t 5000.00\n",
      "        \t Saldo \t\t 5000.00\n",
      "        \n",
      "\n",
      "        \t Limite \t 1000.00\n",
      "\n",
      "\n",
      "        Disponivel \t\t 6000.00\n",
      "        \n"
     ]
    }
   ],
   "source": [
    "conta2 = Especial(cliente1,1000)\n",
    "conta2.depositar(5000.00)\n",
    "conta2.extrato()"
   ]
  },
  {
   "cell_type": "code",
   "execution_count": 33,
   "metadata": {},
   "outputs": [
    {
     "name": "stdout",
     "output_type": "stream",
     "text": [
      "Saldo insuficiente!\n"
     ]
    }
   ],
   "source": [
    "conta2.saque(8000)"
   ]
  },
  {
   "cell_type": "code",
   "execution_count": 34,
   "metadata": {},
   "outputs": [
    {
     "name": "stdout",
     "output_type": "stream",
     "text": [
      "Saldo insuficiente!\n"
     ]
    }
   ],
   "source": [
    "conta2.saque(7000)"
   ]
  },
  {
   "cell_type": "code",
   "execution_count": 35,
   "metadata": {
    "scrolled": true
   },
   "outputs": [
    {
     "name": "stdout",
     "output_type": "stream",
     "text": [
      "Extrato CC No. 1\n",
      "        \t DEPOSITO \t 5000.00\n",
      "        \t Saque \t\t 6000.00\n",
      "\n",
      "        \t Saldo \t\t -1000.00\n",
      "        \n",
      "\n",
      "        \t Limite \t 1000.00\n",
      "\n",
      "\n",
      "        Disponivel \t\t 0.00\n",
      "        \n"
     ]
    }
   ],
   "source": [
    "conta2.saque(6000)"
   ]
  }
 ],
 "metadata": {
  "kernelspec": {
   "display_name": "Python 3",
   "language": "python",
   "name": "python3"
  },
  "language_info": {
   "codemirror_mode": {
    "name": "ipython",
    "version": 3
   },
   "file_extension": ".py",
   "mimetype": "text/x-python",
   "name": "python",
   "nbconvert_exporter": "python",
   "pygments_lexer": "ipython3",
   "version": "3.7.7"
  }
 },
 "nbformat": 4,
 "nbformat_minor": 4
}
