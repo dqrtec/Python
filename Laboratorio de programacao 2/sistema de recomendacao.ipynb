{
 "cells": [
  {
   "cell_type": "code",
   "execution_count": 1,
   "metadata": {},
   "outputs": [],
   "source": [
    "users_interests = [\n",
    " [\"Hadoop\", \"Big Data\", \"HBase\", \"Java\", \"Spark\", \"Storm\", \"Cassandra\"],\n",
    " [\"NoSQL\", \"MongoDB\", \"Cassandra\", \"HBase\", \"Postgres\"],\n",
    " [\"Python\", \"scikit-learn\", \"scipy\", \"numpy\", \"statsmodels\", \"pandas\"],\n",
    " [\"R\", \"Python\", \"statistics\", \"regression\", \"probability\"],\n",
    " [\"machine learning\", \"regression\", \"decision trees\", \"libsvm\"],\n",
    " [\"Python\", \"R\", \"Java\", \"C++\", \"Haskell\", \"programming languages\"],\n",
    " [\"statistics\", \"probability\", \"mathematics\", \"theory\"],\n",
    " [\"machine learning\", \"scikit-learn\", \"Mahout\", \"neural networks\"],\n",
    " [\"neural networks\", \"deep learning\", \"Big Data\", \"artificial intelligence\"],\n",
    " [\"Hadoop\", \"Java\", \"MapReduce\", \"Big Data\"],\n",
    " [\"statistics\", \"R\", \"statsmodels\"],\n",
    " [\"C++\", \"deep learning\", \"artificial intelligence\", \"probability\"],\n",
    " [\"pandas\", \"R\", \"Python\"],\n",
    " [\"databases\", \"HBase\", \"Postgres\", \"MySQL\", \"MongoDB\"],\n",
    " [\"libsvm\", \"regression\", \"support vector machines\"]\n",
    "]\n"
   ]
  },
  {
   "cell_type": "code",
   "execution_count": 13,
   "metadata": {},
   "outputs": [
    {
     "name": "stdout",
     "output_type": "stream",
     "text": [
      "Python 4\n",
      "R 4\n",
      "Big Data 3\n",
      "HBase 3\n",
      "Java 3\n"
     ]
    }
   ],
   "source": [
    "dicionario_ocorrencias = {}\n",
    "for interests in users_interests:\n",
    "    for interesse in interests:\n",
    "        if interesse not in dicionario_ocorrencias:\n",
    "            dicionario_ocorrencias[interesse] = 0\n",
    "        dicionario_ocorrencias[interesse] += 1\n",
    "\n",
    "vetor_interesses = [(i, dicionario_ocorrencias[i]) for i in dicionario_ocorrencias]\n",
    "    \n",
    "        \n",
    "i = 0\n",
    "for k in sorted(dicionario_ocorrencias, key=dicionario_ocorrencias.get, reverse=True):\n",
    "    i+=1\n",
    "    print(k,dicionario_ocorrencias[k])\n",
    "    if i >= 5:\n",
    "        break"
   ]
  },
  {
   "cell_type": "code",
   "execution_count": 22,
   "metadata": {},
   "outputs": [],
   "source": [
    "vetor_recomendacoes = [(key,freq) for key,freq in vetor_interesses if key not in users_interests[0]]"
   ]
  }
 ],
 "metadata": {
  "kernelspec": {
   "display_name": "Python 3",
   "language": "python",
   "name": "python3"
  },
  "language_info": {
   "codemirror_mode": {
    "name": "ipython",
    "version": 3
   },
   "file_extension": ".py",
   "mimetype": "text/x-python",
   "name": "python",
   "nbconvert_exporter": "python",
   "pygments_lexer": "ipython3",
   "version": "3.7.7"
  }
 },
 "nbformat": 4,
 "nbformat_minor": 4
}
