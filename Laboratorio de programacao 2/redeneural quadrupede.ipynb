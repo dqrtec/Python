{
 "cells": [
  {
   "cell_type": "code",
   "execution_count": 55,
   "metadata": {},
   "outputs": [],
   "source": [
    "import random\n",
    "\n",
    "w = [random.randint(0,1) for i in range(4)]\n",
    "\n",
    "x = [([-1,-1,1,1],\"cao\"),\n",
    "     ([1,1,1,1],\"gato\"),\n",
    "     ([1,1,-1,1],\"cavalo\"),\n",
    "     ([-1,-1,-1,1],\"homem\")]\n",
    "\n",
    "b = 0\n",
    "max_int = 10\n",
    "taxa_aprendizado = 1\n",
    "threshold = 1\n",
    "\n",
    "# dicionario de dados\n",
    "d = {'cao':1,\n",
    " 'gato':1,\n",
    " 'cavalo':1,\n",
    " 'homem':-1}"
   ]
  },
  {
   "cell_type": "code",
   "execution_count": 56,
   "metadata": {},
   "outputs": [
    {
     "name": "stdout",
     "output_type": "stream",
     "text": [
      "INTERACAO 0 -------------------------\n",
      "[1, 1, 1, 0]\n",
      "Falha - Peso atualizado\n",
      "acerto\n",
      "acerto\n",
      "Falha - Peso atualizado\n",
      "INTERACAO 1 -------------------------\n",
      "[1, 1, 3, 0]\n",
      "Falha - Peso atualizado\n",
      "acerto\n",
      "Falha - Peso atualizado\n",
      "Falha - Peso atualizado\n",
      "INTERACAO 2 -------------------------\n",
      "[2, 2, 4, 1]\n",
      "acerto\n",
      "acerto\n",
      "acerto\n",
      "acerto\n"
     ]
    }
   ],
   "source": [
    "for interacao in range(max_int):\n",
    "    print(\"INTERACAO {} -------------------------\".format(interacao))\n",
    "    print(w)\n",
    "    acertos = 0\n",
    "    for tupla,label in x:\n",
    "        soma = 0\n",
    "        resposta = \"\"\n",
    "        \n",
    "        for i in range(len(tupla)):\n",
    "            soma += tupla[i] * w[i]\n",
    "        y_in = b + soma\n",
    "        \n",
    "        if y_in > threshold:\n",
    "            y = 1\n",
    "        elif y_in >= -threshold and y_in <= threshold:\n",
    "            y = 0\n",
    "        else:\n",
    "            y = -1\n",
    "        \n",
    "        if y == d[label]:\n",
    "            acertos += 1\n",
    "            resposta = \"acerto\"\n",
    "        else:\n",
    "            for j in range (0,len(w)):\n",
    "                w[j] = w[j] + (taxa_aprendizado * d[label] * tupla[j])\n",
    "                b = b + taxa_aprendizado * d[label]\n",
    "                resposta = \"Falha - Peso atualizado\"\n",
    "            \n",
    "        if y == 1:\n",
    "            print(resposta)\n",
    "        elif y == 0:\n",
    "            print(resposta)\n",
    "        elif y == -1:\n",
    "            print(resposta)\n",
    "            \n",
    "    if acertos == len(x):\n",
    "        break;"
   ]
  },
  {
   "cell_type": "code",
   "execution_count": null,
   "metadata": {},
   "outputs": [],
   "source": []
  }
 ],
 "metadata": {
  "kernelspec": {
   "display_name": "Python 3",
   "language": "python",
   "name": "python3"
  },
  "language_info": {
   "codemirror_mode": {
    "name": "ipython",
    "version": 3
   },
   "file_extension": ".py",
   "mimetype": "text/x-python",
   "name": "python",
   "nbconvert_exporter": "python",
   "pygments_lexer": "ipython3",
   "version": "3.7.7"
  }
 },
 "nbformat": 4,
 "nbformat_minor": 4
}
