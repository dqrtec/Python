{
 "cells": [
  {
   "cell_type": "code",
   "execution_count": 1,
   "metadata": {},
   "outputs": [],
   "source": [
    "import math\n",
    "import random"
   ]
  },
  {
   "cell_type": "markdown",
   "metadata": {},
   "source": [
    "# Dados"
   ]
  },
  {
   "cell_type": "code",
   "execution_count": 2,
   "metadata": {},
   "outputs": [],
   "source": [
    "inputs = [\n",
    " ({'level':'Senior','lang':'Java','tweets':'no','phd':'no'}, False),\n",
    " ({'level':'Senior','lang':'Java','tweets':'no','phd':'yes'}, False),\n",
    " ({'level':'Mid','lang':'Python','tweets':'no','phd':'no'}, True),\n",
    " ({'level':'Junior','lang':'Python','tweets':'no','phd':'no'}, True),\n",
    " ({'level':'Junior','lang':'R','tweets':'yes','phd':'no'}, True),\n",
    " ({'level':'Junior','lang':'R','tweets':'yes','phd':'yes'}, False),\n",
    " ({'level':'Mid','lang':'R','tweets':'yes','phd':'yes'}, True),\n",
    " ({'level':'Senior','lang':'Python','tweets':'no','phd':'no'}, False),\n",
    " ({'level':'Senior','lang':'R','tweets':'yes','phd':'no'}, True),\n",
    " ({'level':'Junior','lang':'Python','tweets':'yes','phd':'no'}, True),\n",
    " ({'level':'Senior','lang':'Python','tweets':'yes','phd':'yes'},True),\n",
    " ({'level':'Mid','lang':'Python','tweets':'no','phd':'yes'}, True),\n",
    " ({'level':'Mid','lang':'Java','tweets':'yes','phd':'no'}, True),\n",
    " ({'level':'Junior','lang':'Python','tweets':'no','phd':'yes'},False)\n",
    " ]"
   ]
  },
  {
   "cell_type": "markdown",
   "metadata": {},
   "source": [
    "# Verificando melhor caso"
   ]
  },
  {
   "cell_type": "code",
   "execution_count": 3,
   "metadata": {},
   "outputs": [],
   "source": [
    "def group_by(subconjunto, funcao):\n",
    "    grupos = {}\n",
    "    for tupla in subconjunto:\n",
    "        chave = funcao(tupla)\n",
    "        if chave not in grupos:\n",
    "            grupos[chave] = []\n",
    "        grupos[chave].append(tupla)\n",
    "    return grupos"
   ]
  },
  {
   "cell_type": "code",
   "execution_count": 4,
   "metadata": {},
   "outputs": [],
   "source": [
    "def partition_by(subconjunto, atributo):\n",
    "    return group_by(subconjunto, lambda x: x[0][atributo])"
   ]
  },
  {
   "cell_type": "code",
   "execution_count": 5,
   "metadata": {},
   "outputs": [],
   "source": [
    "def partition_entropy_by(subconjunto, atributo):\n",
    "    particoes = partition_by(subconjunto, atributo)\n",
    "    return partition_entropy( particoes.values() )"
   ]
  },
  {
   "cell_type": "markdown",
   "metadata": {},
   "source": [
    "parte 2"
   ]
  },
  {
   "cell_type": "code",
   "execution_count": 6,
   "metadata": {},
   "outputs": [],
   "source": [
    "def entropy(lista_probabilidades):\n",
    "    return sum([-p * math.log(p,2) for p in lista_probabilidades if p])"
   ]
  },
  {
   "cell_type": "code",
   "execution_count": 7,
   "metadata": {},
   "outputs": [],
   "source": [
    "def classe_probabilidades(campos):\n",
    "    total = len(campos)\n",
    "    return [quantidade / total for quantidade in campos]"
   ]
  },
  {
   "cell_type": "code",
   "execution_count": 8,
   "metadata": {},
   "outputs": [],
   "source": [
    "def data_entropy(dados_rotulados):\n",
    "    rotulos = [r for _,r in dados_rotulados]\n",
    "    probabilidades = classe_probabilidades(rotulos)\n",
    "    return entropy(probabilidades)"
   ]
  },
  {
   "cell_type": "code",
   "execution_count": 9,
   "metadata": {},
   "outputs": [],
   "source": [
    "def partition_entropy(subconjunto):\n",
    "    total_count = sum( len(tupla) for tupla in subconjunto )\n",
    "    \n",
    "    return sum( data_entropy(sub) * len(sub) / total_count for sub in subconjunto )"
   ]
  },
  {
   "cell_type": "code",
   "execution_count": 10,
   "metadata": {},
   "outputs": [
    {
     "name": "stdout",
     "output_type": "stream",
     "text": [
      "level 1.4006886053169152\n",
      "lang 1.5444097936435128\n",
      "tweets 1.8047281641798882\n",
      "phd 1.8396348215831049\n"
     ]
    }
   ],
   "source": [
    "for key in ['level','lang','tweets','phd']:\n",
    "    print (key, partition_entropy_by(inputs, key))"
   ]
  },
  {
   "cell_type": "code",
   "execution_count": null,
   "metadata": {},
   "outputs": [],
   "source": []
  },
  {
   "cell_type": "code",
   "execution_count": 11,
   "metadata": {},
   "outputs": [
    {
     "name": "stdout",
     "output_type": "stream",
     "text": [
      "lang 0.2\n",
      "tweets 0.4\n",
      "phd 0.5169925001442313\n"
     ]
    }
   ],
   "source": [
    "senior_inputs = [(input, label) for input, label in inputs if input[\"level\"] == \"Senior\"]\n",
    "\n",
    "for key in ['lang', 'tweets', 'phd']:\n",
    " print (key, partition_entropy_by(senior_inputs, key))"
   ]
  }
 ],
 "metadata": {
  "kernelspec": {
   "display_name": "Python 3",
   "language": "python",
   "name": "python3"
  },
  "language_info": {
   "codemirror_mode": {
    "name": "ipython",
    "version": 3
   },
   "file_extension": ".py",
   "mimetype": "text/x-python",
   "name": "python",
   "nbconvert_exporter": "python",
   "pygments_lexer": "ipython3",
   "version": "3.7.7"
  }
 },
 "nbformat": 4,
 "nbformat_minor": 4
}
